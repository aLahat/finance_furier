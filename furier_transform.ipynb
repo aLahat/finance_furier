{
 "cells": [
  {
   "cell_type": "code",
   "execution_count": 1,
   "metadata": {
    "collapsed": false
   },
   "outputs": [],
   "source": [
    "import matplotlib.pyplot as plt\n",
    "import numpy as np\n",
    "import pandas as pd\n",
    "from datetime import datetime\n",
    "%matplotlib inline"
   ]
  },
  {
   "cell_type": "code",
   "execution_count": 2,
   "metadata": {
    "collapsed": false
   },
   "outputs": [
    {
     "data": {
      "text/html": [
       "<div>\n",
       "<table border=\"1\" class=\"dataframe\">\n",
       "  <thead>\n",
       "    <tr style=\"text-align: right;\">\n",
       "      <th></th>\n",
       "      <th>Open</th>\n",
       "      <th>High</th>\n",
       "      <th>Low</th>\n",
       "      <th>Close</th>\n",
       "      <th>Volume</th>\n",
       "      <th>Adj Close</th>\n",
       "    </tr>\n",
       "  </thead>\n",
       "  <tbody>\n",
       "    <tr>\n",
       "      <th>2015-10-22</th>\n",
       "      <td>110.669998</td>\n",
       "      <td>113.349998</td>\n",
       "      <td>110.389999</td>\n",
       "      <td>113.250000</td>\n",
       "      <td>9844700</td>\n",
       "      <td>113.250000</td>\n",
       "    </tr>\n",
       "    <tr>\n",
       "      <th>2015-10-21</th>\n",
       "      <td>110.669998</td>\n",
       "      <td>111.559998</td>\n",
       "      <td>110.010002</td>\n",
       "      <td>110.089996</td>\n",
       "      <td>8769800</td>\n",
       "      <td>110.089996</td>\n",
       "    </tr>\n",
       "    <tr>\n",
       "      <th>2015-10-20</th>\n",
       "      <td>109.550003</td>\n",
       "      <td>110.529999</td>\n",
       "      <td>109.410004</td>\n",
       "      <td>109.839996</td>\n",
       "      <td>9542400</td>\n",
       "      <td>109.839996</td>\n",
       "    </tr>\n",
       "    <tr>\n",
       "      <th>2015-10-19</th>\n",
       "      <td>108.250000</td>\n",
       "      <td>109.970001</td>\n",
       "      <td>107.940002</td>\n",
       "      <td>109.470001</td>\n",
       "      <td>7974900</td>\n",
       "      <td>109.470001</td>\n",
       "    </tr>\n",
       "    <tr>\n",
       "      <th>2015-10-16</th>\n",
       "      <td>108.269997</td>\n",
       "      <td>108.500000</td>\n",
       "      <td>107.459999</td>\n",
       "      <td>108.239998</td>\n",
       "      <td>5739600</td>\n",
       "      <td>108.239998</td>\n",
       "    </tr>\n",
       "  </tbody>\n",
       "</table>\n",
       "</div>"
      ],
      "text/plain": [
       "                  Open        High         Low       Close   Volume  \\\n",
       "2015-10-22  110.669998  113.349998  110.389999  113.250000  9844700   \n",
       "2015-10-21  110.669998  111.559998  110.010002  110.089996  8769800   \n",
       "2015-10-20  109.550003  110.529999  109.410004  109.839996  9542400   \n",
       "2015-10-19  108.250000  109.970001  107.940002  109.470001  7974900   \n",
       "2015-10-16  108.269997  108.500000  107.459999  108.239998  5739600   \n",
       "\n",
       "             Adj Close  \n",
       "2015-10-22  113.250000  \n",
       "2015-10-21  110.089996  \n",
       "2015-10-20  109.839996  \n",
       "2015-10-19  109.470001  \n",
       "2015-10-16  108.239998  "
      ]
     },
     "execution_count": 2,
     "metadata": {},
     "output_type": "execute_result"
    }
   ],
   "source": [
    "disney = pd.read_csv('Stocks/DIS.csv')\n",
    "def date(x):\n",
    "    return datetime.strptime(x, '%Y-%m-%d')\n",
    "disney.index = map(date,disney.Date)\n",
    "del disney['Date']\n",
    "disney = disney.head(2000)\n",
    "disney.head()"
   ]
  },
  {
   "cell_type": "code",
   "execution_count": 3,
   "metadata": {
    "collapsed": false
   },
   "outputs": [
    {
     "data": {
      "image/png": "[encoded data removed]",
      "text/plain": [
       "<matplotlib.figure.Figure at 0x3dde8d0>"
      ]
     },
     "metadata": {},
     "output_type": "display_data"
    }
   ],
   "source": [
    "fig, ax = plt.subplots()\n",
    "sc = ax.plot(disney.index,\n",
    "            disney.Close)\n",
    "ax.grid()\n",
    "\n",
    "plt.show()"
   ]
  },
  {
   "cell_type": "code",
   "execution_count": 4,
   "metadata": {
    "collapsed": false
   },
   "outputs": [
    {
     "data": {
      "image/png": "[encoded data removed]",
      "text/plain": [
       "<matplotlib.figure.Figure at 0xbe25f60>"
      ]
     },
     "metadata": {},
     "output_type": "display_data"
    }
   ],
   "source": [
    "def fourierExtrapolation(x, n_predict,n_harm=100):\n",
    "    n = x.size\n",
    "    t = np.arange(0, n)\n",
    "    p = np.polyfit(t, x, 1)         # find linear trend in x\n",
    "    x_notrend = x - p[0] * t        # detrended x\n",
    "    x_freqdom = np.fft.fft(x_notrend)  # detrended x in frequency domain\n",
    "    f = np.fft.fftfreq(n)              # frequencies\n",
    "    indexes = range(n)\n",
    "    # sort indexes by frequency, lower -> higher\n",
    "    indexes.sort(key = lambda i: np.absolute(f[i]))\n",
    " \n",
    "    t = np.arange(0, n + n_predict)\n",
    "    restored_sig = np.zeros(t.size)\n",
    "    for i in indexes[:1 + n_harm * 2]:\n",
    "        ampli = np.absolute(x_freqdom[i]) / n   # amplitude\n",
    "        phase = np.angle(x_freqdom[i])          # phase\n",
    "        restored_sig += ampli * np.cos(2 * np.pi * f[i] * t + phase)\n",
    "    return restored_sig + p[0] * t\n",
    "    \n",
    "def turn_time(x):return x.value\n",
    "y = disney['Close'][::-1]\n",
    "n_predict = 500\n",
    "n_harm=100\n",
    "extrapolationY = fourierExtrapolation(y, n_predict,n_harm)\n",
    "fig, ax = plt.subplots()\n",
    "ax.plot(np.arange(0, extrapolationY.size), extrapolationY, 'r', label = 'extrapolation')\n",
    "ax.plot(np.arange(0, y.size), y, 'b', label = 'x', linewidth = 3)\n",
    "ax.set_xlim(left=50)\n",
    "plt.show()"
   ]
  },
  {
   "cell_type": "code",
   "execution_count": null,
   "metadata": {
    "collapsed": false
   },
   "outputs": [],
   "source": [
    "from pandas.io.data import DataReader\n",
    "from datetime import datetime\n",
    "def getHist(ticker='IBM',value = 'Adj Close'):\n",
    "    stock = DataReader(ticker,  'yahoo', datetime(2000,1,1), datetime.now())\n",
    "    #stock = stock.iloc[::-1]\n",
    "    return(stock[value])\n",
    "\n",
    "def testStock(ticker='DIS',daysFromDivergence=180,nHarmonies=100, plot = True):\n",
    "    data = getHist(ticker)\n",
    "    past = data.iloc[:-daysFromDivergence]\n",
    "    future =fourierExtrapolation(past, daysFromDivergence,nHarmonies)\n",
    "    if plot:\n",
    "        fig, ax = plt.subplots()\n",
    "        fig.suptitle('%s divergence %s days ago'%(ticker,daysFromDivergence), fontsize=14, fontweight='bold')\n",
    "        ax.plot(np.arange(0, data.size), data, 'g', label = 'actual', linewidth = 1)\n",
    "        ax.plot(np.arange(0, future.size), future, 'r', label = 'extrapolation')\n",
    "        ax.plot(np.arange(0, past.size), past, 'b', label = 'past', linewidth = 3)\n",
    "        ax.legend(loc=2)\n",
    "        ax.set_xlim(left=50)\n",
    "        plt.show()\n",
    "    if data[-1] > past[-1]:\n",
    "        if future[-1]>past[-1]:return True\n",
    "        else: return False\n",
    "    if data[-1] < past[-1]:\n",
    "        if future[-1]<past[-1]:return True\n",
    "        else: return False\n",
    "        "
   ]
  },
  {
   "cell_type": "code",
   "execution_count": null,
   "metadata": {
    "collapsed": false
   },
   "outputs": [
    {
     "name": "stdout",
     "output_type": "stream",
     "text": [
      "total guesses: 19\n",
      "got  7 right and  12 wrong\n",
      "was right 36.84% of the time\n",
      "\n",
      "20 ABIL 0.6% done\n",
      "21 ABIO 0.7% done\n",
      "22 ABMD 0.7% done\n",
      "23 ABTL 0.7% done\n",
      "24 ABTX 0.8% done\n",
      "25"
     ]
    }
   ],
   "source": [
    "from IPython.display import clear_output\n",
    "\n",
    "    \n",
    "tickers = pd.read_csv('nasdaqlisted.txt',sep='|')['Symbol']\n",
    "guesses = []\n",
    "n=0\n",
    "for ticker in tickers:\n",
    "    try:\n",
    "        print n,ticker,'{0:.1f}% done'.format(float(n)/len(tickers) * 100)\n",
    "        if testStock(ticker,plot=False,daysFromDivergence=5):\n",
    "            guesses.append(True)\n",
    "        else:guesses.append(False)\n",
    "\n",
    "    except:pass\n",
    "\n",
    "    n+=1\n",
    "    if n%10==0:\n",
    "        clear_output()\n",
    "        print 'total guesses:' , len(guesses)\n",
    "        print 'got ', guesses.count(True),'right and ',guesses.count(False),'wrong'\n",
    "        print 'was right {0:.2f}% of the time'.format(float(guesses.count(True))/len(guesses) * 100)\n",
    "        print "
   ]
  },
  {
   "cell_type": "code",
   "execution_count": null,
   "metadata": {
    "collapsed": true
   },
   "outputs": [],
   "source": [
    "\n",
    "\n",
    "\n",
    "\n",
    "\n",
    "\n",
    "\n"
   ]
  }
 ],
 "metadata": {
  "kernelspec": {
   "display_name": "Python 2",
   "language": "python",
   "name": "python2"
  },
  "language_info": {
   "codemirror_mode": {
    "name": "ipython",
    "version": 2
   },
   "file_extension": ".py",
   "mimetype": "text/x-python",
   "name": "python",
   "nbconvert_exporter": "python",
   "pygments_lexer": "ipython2",
   "version": "2.7.10"
  }
 },
 "nbformat": 4,
 "nbformat_minor": 0
}
